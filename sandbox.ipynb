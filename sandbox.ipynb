{
 "cells": [
  {
   "cell_type": "code",
   "execution_count": null,
   "metadata": {},
   "outputs": [],
   "source": [
    "import torch\n",
    "import cv2\n",
    "from skimage import io\n",
    "import matplotlib"
   ]
  },
  {
   "cell_type": "code",
   "execution_count": null,
   "metadata": {},
   "outputs": [],
   "source": [
    "model = torch.hub.load('ultralytics/yolov5', 'yolov5s')  # or yolov5n - yolov5x6, custom"
   ]
  },
  {
   "cell_type": "code",
   "execution_count": null,
   "metadata": {},
   "outputs": [],
   "source": [
    "URL = \"https://ultralytics.com/images/zidane.jpg\""
   ]
  },
  {
   "cell_type": "code",
   "execution_count": null,
   "metadata": {},
   "outputs": [],
   "source": [
    "def predict(img_path):\n",
    "    results = model(img_path)\n",
    "    return results.pandas().xyxy[0], results.names\n",
    "\n",
    "predict(URL)[0]"
   ]
  },
  {
   "cell_type": "code",
   "execution_count": null,
   "metadata": {},
   "outputs": [],
   "source": [
    "cmap = matplotlib.cm.get_cmap(\"jet\")\n",
    "\n",
    "def predict_and_draw(img_path):\n",
    "    img = io.imread(URL)\n",
    "    result, class_names = predict(img_path)\n",
    "    result[\"color\"] = result.apply(lambda x: tuple(c * 255 for c in cmap(x[\"class\"] / len(class_names)))[:3], axis=1)\n",
    "\n",
    "    for _, el in result.iterrows():\n",
    "        p1, p2 = (el[\"xmin\"], el[\"ymin\"]), (el[\"xmax\"], el[\"ymax\"])\n",
    "        p1, p2 = tuple(map(int, p1)), tuple(map(int, p2))\n",
    "        cv2.rectangle(img, p1, p2, el[\"color\"], 2)\n",
    "\n",
    "    cv2.imwrite(\"tmp.png\", img)\n",
    "\n",
    "    result_json = result.to_json(orient=\"index\")\n",
    "\n",
    "predict_and_draw(URL)"
   ]
  },
  {
   "cell_type": "code",
   "execution_count": null,
   "metadata": {},
   "outputs": [],
   "source": []
  }
 ],
 "metadata": {
  "interpreter": {
   "hash": "e8f905b1aec5efdbb6cb2d46e2d78366abd10ed1e106c7a4a14e30b3fbf248df"
  },
  "kernelspec": {
   "display_name": "Python 3.8.13 ('yolo')",
   "language": "python",
   "name": "python3"
  },
  "language_info": {
   "codemirror_mode": {
    "name": "ipython",
    "version": 3
   },
   "file_extension": ".py",
   "mimetype": "text/x-python",
   "name": "python",
   "nbconvert_exporter": "python",
   "pygments_lexer": "ipython3",
   "version": "3.8.13"
  },
  "orig_nbformat": 4
 },
 "nbformat": 4,
 "nbformat_minor": 2
}
